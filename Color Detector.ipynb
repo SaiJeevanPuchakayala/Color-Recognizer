{
 "cells": [
  {
   "cell_type": "markdown",
   "metadata": {},
   "source": [
    "### Building a Color Recognizer in Python"
   ]
  },
  {
   "cell_type": "markdown",
   "metadata": {},
   "source": [
    "#### 1. Importing Required Libraries"
   ]
  },
  {
   "cell_type": "code",
   "execution_count": 14,
   "metadata": {},
   "outputs": [],
   "source": [
    "import cv2\n",
    "import numpy as np\n",
    "import pandas as pd"
   ]
  },
  {
   "cell_type": "markdown",
   "metadata": {},
   "source": [
    "#### 2. Reading The Image File"
   ]
  },
  {
   "cell_type": "code",
   "execution_count": 15,
   "metadata": {},
   "outputs": [],
   "source": [
    "img = cv2.imread(\"Images/image1.jpg\")"
   ]
  },
  {
   "cell_type": "markdown",
   "metadata": {},
   "source": [
    "#### 3. Reading Color Names from CSV file"
   ]
  },
  {
   "cell_type": "code",
   "execution_count": 16,
   "metadata": {},
   "outputs": [],
   "source": [
    "df = pd.read_csv('Color Names and Values.csv')"
   ]
  },
  {
   "cell_type": "markdown",
   "metadata": {},
   "source": [
    "#### 4. Color Recognition Function\n",
    "- To find the nearest RGB vlaue "
   ]
  },
  {
   "cell_type": "code",
   "execution_count": 17,
   "metadata": {},
   "outputs": [],
   "source": [
    "def recognize_color(R,G,B):\n",
    "    minimum = 10000\n",
    "    for i in range(len(df)):\n",
    "        d = abs(R- int(df.loc[i,\"R\"])) + abs(G- int(df.loc[i,\"G\"]))+ abs(B- int(df.loc[i,\"B\"]))\n",
    "        if(d<=minimum):\n",
    "            minimum = d\n",
    "            color_name = df.loc[i,\"Color_Name\"]\n",
    "    return color_name"
   ]
  },
  {
   "cell_type": "markdown",
   "metadata": {},
   "source": [
    "#### 5. Mouse Click to get Color Name"
   ]
  },
  {
   "cell_type": "code",
   "execution_count": 18,
   "metadata": {},
   "outputs": [],
   "source": [
    "clicked = False\n",
    "r = g = b = xpos = ypos = 0\n",
    "\n",
    "def mouse_click(event, x, y, flags, param):\n",
    "    if event == cv2.EVENT_RBUTTONDBLCLK:\n",
    "        global b,g,r,xpos,ypos,clicked\n",
    "        clicked = True\n",
    "        xpos = x\n",
    "        ypos = y\n",
    "        b,g,r = img[y,x]\n",
    "        b = int(b)\n",
    "        g = int(g)\n",
    "        r = int(r)"
   ]
  },
  {
   "cell_type": "markdown",
   "metadata": {},
   "source": [
    "#### 6. Resultant Window Loop"
   ]
  },
  {
   "cell_type": "code",
   "execution_count": 19,
   "metadata": {},
   "outputs": [],
   "source": [
    "cv2.namedWindow('Color Recognizer')\n",
    "cv2.setMouseCallback('Color Recognizer',mouse_click)\n",
    "\n",
    "\n",
    "while(1):\n",
    "\n",
    "    cv2.imshow(\"Color Recognizer\",img)\n",
    "    if (clicked):\n",
    "   \n",
    "        # Text Background Rectangular Bar \n",
    "        cv2.rectangle(img,(0,20), (1500,60), (b,g,r), -1)\n",
    "\n",
    "        # Text To Display Color_name and RGB values \n",
    "        text = \"Color Name: \"+recognize_color(r,g,b)+\" | \" +' R='+ str(r) + \" | \" + ' G='+ str(g) + \" | \" + ' B='+ str(b)\n",
    "        \n",
    "        #cv2.putText(img,text,start,font(0-7),fontScale,color,thickness,lineType )\n",
    "        cv2.putText(img, text,(50,50),cv2.FONT_HERSHEY_COMPLEX,0.8,(255,255,255),2,cv2.LINE_AA)\n",
    "\n",
    "        # For light Colors Text will be in Black Color\n",
    "        if(r+g+b>=600):\n",
    "           cv2.putText(img, text,(50,50),cv2.FONT_HERSHEY_COMPLEX,0.8,(0,0,0),2,cv2.LINE_AA)\n",
    "            \n",
    "        clicked=False\n",
    "        \n",
    "\n",
    "# Click 'ESC' to break the loop    \n",
    "    if cv2.waitKey(20) & 0xFF ==27:\n",
    "        break\n",
    "cv2.destroyAllWindows()"
   ]
  }
 ],
 "metadata": {
  "kernelspec": {
   "display_name": "Python 3",
   "language": "python",
   "name": "python3"
  },
  "language_info": {
   "codemirror_mode": {
    "name": "ipython",
    "version": 3
   },
   "file_extension": ".py",
   "mimetype": "text/x-python",
   "name": "python",
   "nbconvert_exporter": "python",
   "pygments_lexer": "ipython3",
   "version": "3.8.5"
  }
 },
 "nbformat": 4,
 "nbformat_minor": 4
}
